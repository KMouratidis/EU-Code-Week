{
 "cells": [
  {
   "cell_type": "markdown",
   "metadata": {},
   "source": [
    "# Εισαγωγή"
   ]
  },
  {
   "cell_type": "markdown",
   "metadata": {},
   "source": [
    "Σημαντικές διευθύνσεις:\n",
    "\n",
    "- Που να τρέξετε τον κώδικα:\n",
    "    - (**Προτεινόμενο**) Τοπικά στον υπολογιστή σας εφόσον έχετε ήδη Python.\n",
    "    - Online στο https://heroku.com (πχ: https://capable-squirrel.herokuapp.com/)\n",
    "- GitHub https://github.com/KMouratidis/EU-Code-Week-2019 που περιέρχει:\n",
    "    - Βασικές ρυθμίσεις για την εφαρμογή Dash έτοιμη για Heroku\n",
    "    - Τις πληροφορίες για να στηθεί σωστό περιβάλλον Jupyter Notebook στο Binder\n",
    "    - Τις σημειώσεις κι απ' τις δυο παρουσιάσεις\n",
    "- Αν δουλεύετε στο Heroku καλό θα ήταν να μην ανεβάζετε μικρές αλλαγές κάθε φορά γιατί θα σας φάει το χρόνο. "
   ]
  },
  {
   "cell_type": "markdown",
   "metadata": {},
   "source": [
    "# HTML"
   ]
  },
  {
   "cell_type": "markdown",
   "metadata": {},
   "source": [
    "# Dash"
   ]
  },
  {
   "cell_type": "markdown",
   "metadata": {},
   "source": [
    "# Ιδέες για εφαρμογές με Dash"
   ]
  },
  {
   "cell_type": "markdown",
   "metadata": {},
   "source": [
    "### Θα χρειαστείτε να συμβουλευτείτε πολλούς οδηγούς από το διαδίκτυο, πχ:\n",
    "\n",
    "- Οδηγός της Dash (https://dash.plot.ly)\n",
    "    - Core Components (https://dash.plot.ly/dash-core-components)\n",
    "    - HTML Components (https://dash.plot.ly/dash-html-components)\n",
    "- HTML γενικά (https://www.w3schools.com/html/html_elements.asp)"
   ]
  },
  {
   "cell_type": "markdown",
   "metadata": {},
   "source": [
    "### Σύντμηση διευθύνσεων URL -- Δυσκολία: 4\n",
    "\n",
    "<img src=\"https://images.zapier.com/storage/photos/0c265737a7285478f65b30f302479be7.png?format=jpg\" width=\"600px\">\n",
    "\n",
    "Παράδειγμα:\n",
    "    \n",
    "    xyz.com/wwryb78&svnhkn%sghq?sfiyh --> xyz.com/piojwr\n",
    "\n",
    "Βοηθήματα & προτάσεις:\n",
    "- Τα URL θα έχουν μορφή ανάλογα με το που τρέχετε τον κώδικά σας, συγκεκριμένα:\n",
    "    - Για Heroku, αν η εφαρμογή σας λέγεται capable-squirrel κι έχει URL \n",
    "    https://capable-squirrel.herokuapp.com/ τότε τα link σας θα ξεκινάνε από εκεί, πχ:\n",
    "    https://capable-squirrel.herokuapp.com/ad8Sj9b12\n",
    "    - Για Jupyter Notebook με Binder\n",
    "- Ο χρήστης να μπορεί να δίνει δικό του όνομα στο link, πχ: \n",
    "https://capable-squirrel.herokuapp.com/Batman\n",
    "- Για την εφαρμογή σκεφτείτε τι τύπο δεδομένων (int, float, str, set, list, dict, ...) βολεύει να χρησιμοποιήσετε και πως θα σιγουρέψετε πως δεν θα υπάρξουν \"διαμάχες\" (2 χρήστες να βάλουν το ίδιο όνομα).\n",
    "- Ρίξτε μια ματιά στο **dcc.Location** και το παράδειγμα που δίνουν από τον οδηγό Dash.\n",
    "- Μην ασχοληθείτε από την αρχή με το styling. Αφήστε το για το τέλος **μόνο αν έχετε χρόνο**."
   ]
  },
  {
   "cell_type": "markdown",
   "metadata": {},
   "source": [
    "### Αριθμομηχανή -- Δυσκολία: 7\n",
    "\n",
    "<img src=\"https://www.sfragidadiko.gr/images/stories/virtuemart/product/citizen_cdc_812bn.jpg\" height=\"50px\" width=\"300px\"></img>\n",
    "\n",
    "Βοηθήματα και προτάσεις:\n",
    "\n",
    "- Φτιάξτε κάθε κουμπί από την αριθμομηχανή με ένα κουμπί (button) στο Dash.\n",
    "- Ενώστε όλα τα κουμπιά σε 1 callback. Για να δείτε το ID αυτού που πατήθηκε τελευταία κοιτάξτε το `callback_context.triggered[0]` (π.χ.: `from dash import callback_context`)."
   ]
  },
  {
   "cell_type": "markdown",
   "metadata": {},
   "source": []
  }
 ],
 "metadata": {
  "kernelspec": {
   "display_name": "Python 3",
   "language": "python",
   "name": "python3"
  },
  "language_info": {
   "codemirror_mode": {
    "name": "ipython",
    "version": 3
   },
   "file_extension": ".py",
   "mimetype": "text/x-python",
   "name": "python",
   "nbconvert_exporter": "python",
   "pygments_lexer": "ipython3",
   "version": "3.6.8"
  }
 },
 "nbformat": 4,
 "nbformat_minor": 2
}
