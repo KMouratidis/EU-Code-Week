{
 "cells": [
  {
   "cell_type": "markdown",
   "metadata": {},
   "source": [
    "# Εισαγωγή"
   ]
  },
  {
   "cell_type": "markdown",
   "metadata": {},
   "source": [
    "Σημαντικές διευθύνσεις:\n",
    "\n",
    "- Που να τρέξετε τον κώδικα:\n",
    "    - (**Προτεινόμενο**) Τοπικά στον υπολογιστή σας εφόσον έχετε ήδη Python.\n",
    "    - Online στο https://heroku.com (πχ: https://capable-squirrel.herokuapp.com/). Αν δουλεύετε με το Heroku καλό θα ήταν να μην ανεβάζετε μικρές αλλαγές κάθε φορά γιατί θα σας φάει το χρόνο. \n",
    "- GitHub https://github.com/KMouratidis/EU-Code-Week-2019 που περιέρχει:\n",
    "    - Βασικές ρυθμίσεις για την εφαρμογή Dash έτοιμη για Heroku\n",
    "    - Τις πληροφορίες για να στηθεί σωστό περιβάλλον Jupyter Notebook στο Binder\n",
    "    - Τις σημειώσεις κι απ' τις δυο παρουσιάσεις\n",
    "\n",
    "Στοιχεία επικοινωνίας:\n",
    "\n",
    "- k.mouratidis@hotmail.com \n",
    "- https://kmouratidis.me (+ social media links)\n",
    "- https://github.com/KMouratidis"
   ]
  },
  {
   "cell_type": "markdown",
   "metadata": {},
   "source": [
    "# Πριν ξεκινήσουμε...\n",
    "\n",
    "### Πως παρακολουθούμε μια διάλεξη (και μαθαίνουμε προγραμματισμό):\n",
    "1. **Βλέπουμε, ακούμε, καταλαβαίνουμε, ρωτάμε.**\n",
    "2. Μαθαίνουμε. Αυτό γίνεται ως εξής: **ΓΡΑΦΟΥΜΕ ΜΕ ΤΑ ΧΕΡΑΚΙΑ ΜΑΣ ΑΥΤΟ ΠΟΥ ΕΙΔΑΜΕ**.\n",
    "    - Προγραμματισμό μαθαίνεις γράφοντας. Τα δάκτυλά σου συνηθίζουν μετά από εκατοντάδες φορές και αποκτάς τη λεγόμενη \"μυική μνήμη\".\n",
    "    - Προγραμματισμό μαθαίνεις γράφοντας. Θέλει συχνή, μεθοδική, και μελετημένη προσπάθεια. **Καλύτερα να γράφεις 15' κάθε μέρα της εβδομάδας παρά 10 ώρες κάθε Κυριακή**.\n",
    "    - Προγραμματισμό μαθαίνεις γράφοντας. Το γράψιμο όμως είναι μόνο η εκτέλεση. Ο προγραμματισμός είναι πιο πολύ για το τι σκέφτεσαι, κι όχι για το τι/πόσο γράφεις. **Ο καλύτερος κώδικας ειναι αυτός που δεν χρειάζεται να γράψεις.**\n",
    "    - Ο προγραμματισμός δεν γίνεται με το ζόρι. Τις περισσοτερες φορες δεν είναι αστείος ή διασκεδαστικός. Θα σε κάνει να θέλεις να κλάψεις όταν δεν καταλαβαίνεις γιατί κάτι δεν δουλεύει μετά από 100 προσπάθειες και ξενύχτι έως τις 03:00. Συνεπώς: **Βρες κάτι που σου αρέσει να κάνεις, και θέλεις πολύ να το κάνεις. Και προσπάθησε όσο περισσότερο μπορείς να κάνεις πλάκα κατά τη διάρκεια.**\n",
    "    - Αν κάτι μας φαίνεται δύσκολο, κάνουμε υπομονή. Αν όλα μας φαίνονται πολύ μακριά από το επίπεδό μας, δοκιμάζουμε κάτι άλλο, π.χ.: https://codecombat.com/\n",
    "3. Πειραματιζόμαστε. Δοκιμάζουμε ότι μπορούμε να φανταστούμε. Τρέχουμε ελεύθερα εντολές (**ποτέ από μη έγκυρες σελίδες στο διακίκτυο**). Έγκυρες ιστοσελίδες είναι, για παράδειγμα, οι εξής:\n",
    "    - (**σχεδόν πάντα**) stackoverflow.com\n",
    "    - (**σχεδόν πάντα**) wikipedia.org\n",
    "    - (**όχι πάντα, μόνο από έγκυρους χρήστες**) github.com \n",
    "\n",
    "### Πως λύνουμε προγραμματιστικές ασκήσεις:\n",
    "1. Δοκιμάζουμε να τη λύσουμε με τον πιο απλό τρόπο που μπορούμε να σκεφτούμε, αν γίνεται χωρίς καν να φτιάξουμε class ή function. \n",
    "    - Αν τα καταφέρουμε, προχωράμε στο βήμα 2.\n",
    "    - Αν μας πάρει πάνω από 10-30 λεπτά (ανάλογα το πρόβλημα):\n",
    "        - Ζητάμε συμβουλή / βοήθημα. Αν περάσουν άλλα 10-30' και δεν μας βοήθησε...\n",
    "        - Google it. Όχι τη λύση, αλλά το κομμάτι που μας δυσκολεύει.\n",
    "2. Δοκιμάζουμε να τη λύσουμε όπως ζητάει το πρόβλημα.\n",
    "3. Δοκιμάζουμε να βρούμε μια πιο καλή λύση. Αν πάρει πάνω από 10', προχωράμε παρακάτω."
   ]
  },
  {
   "cell_type": "markdown",
   "metadata": {},
   "source": [
    "# HTML"
   ]
  },
  {
   "cell_type": "markdown",
   "metadata": {},
   "source": [
    "# Dash"
   ]
  },
  {
   "cell_type": "markdown",
   "metadata": {},
   "source": [
    "# Ιδέες για εφαρμογές με Dash"
   ]
  },
  {
   "cell_type": "markdown",
   "metadata": {},
   "source": [
    "### Θα χρειαστείτε να συμβουλευτείτε πολλούς οδηγούς από το διαδίκτυο, πχ:\n",
    "\n",
    "- Οδηγός της Dash (https://dash.plot.ly)\n",
    "    - Core Components (https://dash.plot.ly/dash-core-components)\n",
    "    - HTML Components (https://dash.plot.ly/dash-html-components)\n",
    "- HTML γενικά (https://www.w3schools.com/html/html_elements.asp)"
   ]
  },
  {
   "cell_type": "markdown",
   "metadata": {},
   "source": [
    "### Λίστα βιβλίων/ταινιών -- Δυσκολία: 1-3\n",
    "\n",
    "Βοηθήματα και προτάσεις:\n",
    "\n",
    "- Φτιάξτε ένα layout που να περιέχει από ένα Div για κάθε ταινία σε μια λίστα με ταινίες, ένα κείμενο, και μια εικόνα. Πχ για ταινίες:\n",
    "    - The Last Song (2010), The Last Song is a 2010 American coming-of-age teen romantic drama film developed alongside Nicholas Sparks' 2009 novel of the same name. The film was directed by Julie Anne Robinson in her feature film directorial debut and co-written by Sparks and Jeff Van Wie. , https://iv1.lisimg.com/image/863124/440full-the-last-song-%282010%29-poster.jpg\n",
    "    - The Last Samurai (2003), The Last Samurai is a 2003 American period action drama film directed and co-produced by Edward Zwick, who also co-wrote the screenplay with John Logan and Marshall Herskovitz. The film stars Tom Cruise, who also co-produced, with Timothy Spall, Ken Watanabe, Billy Connolly, Tony Goldwyn, Hiroyuki Sanada, Koyuki, and Shin Koyamada in supporting roles., https://images-na.ssl-images-amazon.com/images/I/510HDNWT9RL._SY445_.jpg\n",
    "- (Προαιρετικό) Δώστε τη δυνατότητα στο χρήστη να ψάξει για μια ταινία είτε με τίτλο ή με χρονιά ή με θεματική (πχ δείτε από dash core components αντίστοιχα: Input, RangeSlider, Dropdown)\n",
    "- Χρησιμοποιήστε τουλάχιστον 10 βιβλία/ταινίες με διαφορετικές χρονολογίες. Αν θέλετε δεδομένα, μπορείτε να χρησιμοποιήσετε το αρχείο `books.csv`."
   ]
  },
  {
   "cell_type": "markdown",
   "metadata": {},
   "source": [
    "### Σύντμηση διευθύνσεων URL -- Δυσκολία: 4\n",
    "\n",
    "<img src=\"https://images.zapier.com/storage/photos/0c265737a7285478f65b30f302479be7.png?format=jpg\" width=\"600px\">\n",
    "\n",
    "Παράδειγμα:\n",
    "    \n",
    "    xyz.com/wwryb78&svnhkn%sghq?sfiyh --> xyz.com/piojwr\n",
    "\n",
    "Βοηθήματα & προτάσεις:\n",
    "- Τα URL θα έχουν μορφή ανάλογα με το που τρέχετε τον κώδικά σας, συγκεκριμένα:\n",
    "    - Για Heroku, αν η εφαρμογή σας λέγεται capable-squirrel κι έχει URL \n",
    "    https://capable-squirrel.herokuapp.com/ τότε τα link σας θα ξεκινάνε από εκεί, πχ:\n",
    "    https://capable-squirrel.herokuapp.com/ad8Sj9b12\n",
    "    - Για Jupyter Notebook με Binder\n",
    "- Ο χρήστης να μπορεί να δίνει δικό του όνομα στο link, πχ: \n",
    "https://capable-squirrel.herokuapp.com/Batman\n",
    "- Για την εφαρμογή σκεφτείτε τι τύπο δεδομένων (int, float, str, set, list, dict, ...) βολεύει να χρησιμοποιήσετε και πως θα σιγουρέψετε πως δεν θα υπάρξουν \"διαμάχες\" (2 χρήστες να βάλουν το ίδιο όνομα).\n",
    "- Ρίξτε μια ματιά στο **dcc.Location** και το παράδειγμα που δίνουν από τον οδηγό Dash.\n",
    "- Μην ασχοληθείτε από την αρχή με το styling. Αφήστε το για το τέλος **μόνο αν έχετε χρόνο**."
   ]
  },
  {
   "cell_type": "markdown",
   "metadata": {},
   "source": [
    "### Αριθμομηχανή -- Δυσκολία: 7\n",
    "\n",
    "<img src=\"https://www.sfragidadiko.gr/images/stories/virtuemart/product/citizen_cdc_812bn.jpg\" height=\"50px\" width=\"300px\"></img>\n",
    "\n",
    "Βοηθήματα και προτάσεις:\n",
    "\n",
    "- Φτιάξτε κάθε κουμπί από την αριθμομηχανή με ένα κουμπί (button) στο Dash.\n",
    "- Ενώστε όλα τα κουμπιά σε 1 callback. Για να δείτε το ID αυτού που πατήθηκε τελευταία κοιτάξτε το `callback_context.triggered[0]` (π.χ.: `from dash import callback_context`)."
   ]
  },
  {
   "cell_type": "markdown",
   "metadata": {},
   "source": []
  }
 ],
 "metadata": {
  "kernelspec": {
   "display_name": "Python 3",
   "language": "python",
   "name": "python3"
  },
  "language_info": {
   "codemirror_mode": {
    "name": "ipython",
    "version": 3
   },
   "file_extension": ".py",
   "mimetype": "text/x-python",
   "name": "python",
   "nbconvert_exporter": "python",
   "pygments_lexer": "ipython3",
   "version": "3.6.8"
  }
 },
 "nbformat": 4,
 "nbformat_minor": 2
}
