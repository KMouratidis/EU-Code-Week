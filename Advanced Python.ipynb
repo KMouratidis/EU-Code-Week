{
 "cells": [
  {
   "cell_type": "markdown",
   "metadata": {},
   "source": [
    "# Εισαγωγή"
   ]
  },
  {
   "cell_type": "markdown",
   "metadata": {},
   "source": [
    "Σημαντικές διευθύνσεις:\n",
    "\n",
    "- Που να τρέξετε τον κώδικα:\n",
    "    - Τοπικά στον υπολογιστή σας εφόσον έχετε ήδη Python.\n",
    "    - Online Jupyter Notebook: https://mybinder.org/v2/gh/KMouratidis/EU-Code-Week-2019/master\n",
    "- GitHub https://github.com/KMouratidis/EU-Code-Week-2019 που περιέρχει:\n",
    "    - Βασικές ρυθμίσεις για την εφαρμογή Dash έτοιμη για Heroku\n",
    "    - Τις πληροφορίες για να στηθεί σωστό περιβάλλον Jupyter Notebook στο Binder\n",
    "    - Τις σημειώσεις κι απ' τις δυο παρουσιάσεις\n",
    "- "
   ]
  },
  {
   "cell_type": "markdown",
   "metadata": {},
   "source": [
    "# Python, ικανότητες για προχωρημένους"
   ]
  },
  {
   "cell_type": "markdown",
   "metadata": {},
   "source": [
    "### Hackάροντας τα `if/else` και τα `and/or`"
   ]
  },
  {
   "cell_type": "markdown",
   "metadata": {},
   "source": [
    "### Iterables"
   ]
  },
  {
   "cell_type": "markdown",
   "metadata": {},
   "source": [
    "### Set operations\n",
    "\n",
    "    * intersection\n",
    "    * union\n",
    "    * difference"
   ]
  },
  {
   "cell_type": "markdown",
   "metadata": {},
   "source": [
    "### List comprehension"
   ]
  },
  {
   "cell_type": "markdown",
   "metadata": {},
   "source": [
    "### Dict comprehension"
   ]
  },
  {
   "cell_type": "markdown",
   "metadata": {},
   "source": [
    "### Tuple unpacking"
   ]
  },
  {
   "cell_type": "markdown",
   "metadata": {},
   "source": [
    "### Advanced functions\n",
    "\n",
    "    * Προεπιλεγμένες τιμές\n",
    "    * Τιμές μόνο με όνομα\n",
    "    * *args\n",
    "    * **kwargs"
   ]
  },
  {
   "cell_type": "markdown",
   "metadata": {},
   "source": [
    "### Generators"
   ]
  },
  {
   "cell_type": "markdown",
   "metadata": {},
   "source": [
    "### Lambda functions"
   ]
  },
  {
   "cell_type": "markdown",
   "metadata": {},
   "source": [
    "### Functional & iteration tools\n",
    "\n",
    "    * slicing       -  λίστα από... έως... \n",
    "    * reverse       -  λίστα, ανάποδα (βλ. επίσης [::-1])\n",
    "    * map           -  τρέξε για κάθε\n",
    "    * filter        -  φίλτρο\n",
    "    * reduce        -  αλυσυδωτές πράξεις\n",
    "    * zip           -  ζευγάρια\n",
    "    * enumerate     -  λούπα με αρίθμηση\n",
    "    * list.sort     -  ταξινόμιση\n",
    "    * list.count    -  πόσες φορές έχει το Χ\n",
    "    * chain         -  σειρά / ουρά\n",
    "    * cycle         -  κυκλική επανάληψη\n",
    "    * dropwhile     -  πέτα τιμές έως...\n",
    "    * permutations  -  συνδυασμοί (η σειρά έχει σημασία)\n",
    "    * combinations  -  συνδυασμοί (η σειρά δεν έχει σημασία)\n",
    "    * repeat        -  επανάληψη (αντιγραφή-επικόλληση)\n",
    "    * partial       -  function με μερικά μόνο από τα arguments"
   ]
  },
  {
   "cell_type": "code",
   "execution_count": 29,
   "metadata": {},
   "outputs": [],
   "source": [
    "from itertools import (repeat, product, dropwhile, permutations, \n",
    "                       chain, cycle, combinations, accumulate, \n",
    "                       count, groupby)\n",
    "from functools import partial, reduce"
   ]
  },
  {
   "cell_type": "markdown",
   "metadata": {},
   "source": [
    "### Decorators"
   ]
  },
  {
   "cell_type": "markdown",
   "metadata": {},
   "source": [
    "# Αντικειμενοστραφής προγραμματισμός"
   ]
  },
  {
   "cell_type": "markdown",
   "metadata": {},
   "source": [
    "### Βασικά για κλάσεις:\n",
    "\n",
    "    * function vs class\n",
    "    * function vs method\n",
    "\n",
    "### Dunder methods\n",
    "\n",
    "    * __init__\n",
    "    * __repr__\n",
    "    * __str__\n",
    "    * __add__, __sub__, __mul__, __mod__, __pow___\n",
    "    * __or__, __and__, __xor__\n",
    "    * __del__\n",
    "    * __lt__, __le__, __eq__, __ne__, __gt__, __ge__\n",
    "    * __bool__, __int__, __float__\n",
    "    * __getitem__\n",
    "    * __getattr__\n",
    "    * __slots__\n",
    "    * __enter__, __exit__"
   ]
  },
  {
   "cell_type": "markdown",
   "metadata": {},
   "source": [
    "### Inheritance "
   ]
  },
  {
   "cell_type": "markdown",
   "metadata": {},
   "source": [
    "### classmethod, staticmethod"
   ]
  },
  {
   "cell_type": "markdown",
   "metadata": {},
   "source": [
    "# Ασκήσεις\n",
    "\n",
    "1.  Φτιάξε function που αν του δώσουμε 3 αριθμούς (αρχή, τέλος, βήμα) φτιάχνει μια λίστα με κάθε αριθμό από την `αρχή` έως το `τέλος` που απέχει `βήμα` από τον προηγούμενο. Π.χ. για (αρχή=1, τέλος=30, βήμα=3) φτιάχνει τη λίστα `[1, 4, 7, ..., 28]`. Μετά φτιάχνει μια δεύτερη λίστα με τα τετράγωνα αυτών των αριθμών. Στο τέλος γυρνάει μια λίστα με τα ζευγάρια της μορφής `(αριθμός, τετάγωνο)`, π.χ. `[(1,1), (4, 16), (7, 49), ...]`.\n",
    "    - (Bonus) Το κάνει σε 1 γραμμή **ή** χρησιμοποιεί κάποιο functional tool (βλ. πάνω).\n",
    "2. Φτιάξε function που για το λατινικό αλφάβητο μετατρέπει ένα κείμενο σε λίστα με αριθμούς. Αυτό μπορεί να το κάνει με ένα dictionary που μετατρέπει τα γράμματα σε αριθμούς και μια λίστα να τα συλλέγει. Για παράδειγμα αν έπαιρνε \"abcde\" θα γυρνούσε `[1, 2, 3, 4, 5]`. Για ευκολία, χρησιμοποιήστε το: `from string import ascii_lowercase`. \n",
    "    - (Προαιρετικό) Φτιάξτε και το ανάποδο.\n",
    "    - (Bonus) Δοκιμάστε να ενώσετε τα 2 function σε 1.\n",
    "3. (Μέτριο/Δύσκολο) Η κρυπτογραφία είναι μια μέθοδος για να αποκρύψουμε το περιεχόμενο ενός μηνύματος έτσι ώστε μόνο ο παραλήπτης που θέλουμε να μπορεί να το καταλάβει. Οι Ρωμαίοι χρησιμοποιούσαν μια μέθοδο που σήμερα αποκαλούμε \"Κώδικας του Καίσαρα\". Αυτός ο κώδικας παίρνει ένα νούμερο Χ και κάνει μετατρέπει ένα γράμμα Υ στο γράμμα που βρίσκει Χ θέσεις μετέπειτα. Για παράδειγμα, το γράμμα A=1, με κώδικα Χ=3 πάει 3 θέσεις πιο μετά και γίνεται D. Φτιάξε function που δίνοντάς του έναν κωδικό κι ένα μήνυμα, κρυπτογραφεί το μήνυμα.\n",
    "    - (Προαιρετικό) Φτιάξτε και το ανάποδο.\n",
    "4. Φτιάξε function που βρίσκει πόσα κοινά αντικείμενα έχουν 2 λίστες.\n",
    "5. Φτιάξε function που βρίσκει το μέγιστο αριθμό μιας λίστας και μετράει πόσες φορές εμφανίζεται σε αυτήν. Π.χ. στη λίστα `[1, 2, 5, 3, 5, 2, 5]` ο μέγιστος είναι 5 κι εμφανίζεται 3 φορές.\n",
    "6. (Μέτριο/Δύσκολο) Φτιάξτε μια κλάση για να αναπαραστήσει ένα κλάσμα (π.χ. 3/4). Φτιάξτε και τα dunder methods για να μπορεί να χρησιμοποιήσει τους αριθμητικούς συντελεστές (`+, -, *, /`)."
   ]
  },
  {
   "cell_type": "code",
   "execution_count": null,
   "metadata": {},
   "outputs": [],
   "source": []
  }
 ],
 "metadata": {
  "kernelspec": {
   "display_name": "Python 3",
   "language": "python",
   "name": "python3"
  },
  "language_info": {
   "codemirror_mode": {
    "name": "ipython",
    "version": 3
   },
   "file_extension": ".py",
   "mimetype": "text/x-python",
   "name": "python",
   "nbconvert_exporter": "python",
   "pygments_lexer": "ipython3",
   "version": "3.6.8"
  }
 },
 "nbformat": 4,
 "nbformat_minor": 2
}
